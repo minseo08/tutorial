{
 "cells": [
  {
   "cell_type": "markdown",
   "metadata": {},
   "source": [
    "Prototyping LFM for Rating Prediction"
   ]
  },
  {
   "cell_type": "code",
   "execution_count": 1,
   "metadata": {},
   "outputs": [
    {
     "name": "stdout",
     "output_type": "stream",
     "text": [
      "../data/ML100K.csv  100%[===================>] 947.92K  4.76MB/s    in 0.2s    \n"
     ]
    }
   ],
   "source": [
    "! wget -q --show-progress -O ../data/ML100K.csv \"https://drive.google.com/uc?export=download&id=1jmiAP_yNUMqqrMRL0m9_9txVrXoy7Pjl\""
   ]
  },
  {
   "cell_type": "code",
   "execution_count": 2,
   "metadata": {},
   "outputs": [
    {
     "name": "stdout",
     "output_type": "stream",
     "text": [
      "   userId  movieId  rating\n",
      "0       0        0       3\n",
      "1       1        1       3\n",
      "2       2        2       1\n",
      "3       3        3       2\n",
      "4       4        4       1\n"
     ]
    }
   ],
   "source": [
    "import pandas as pd\n",
    "\n",
    "df = pd.read_csv(\"../data/ML100K.csv\")\n",
    "print(df.head())"
   ]
  },
  {
   "cell_type": "code",
   "execution_count": 3,
   "metadata": {},
   "outputs": [
    {
     "name": "stderr",
     "output_type": "stream",
     "text": [
      "\u001b[32m2025-03-05 04:02:51.734\u001b[0m | \u001b[1mINFO    \u001b[0m | \u001b[36m__main__\u001b[0m:\u001b[36m<module>\u001b[0m:\u001b[36m24\u001b[0m - \u001b[1mNumber of users: 943\u001b[0m\n",
      "\u001b[32m2025-03-05 04:02:51.735\u001b[0m | \u001b[1mINFO    \u001b[0m | \u001b[36m__main__\u001b[0m:\u001b[36m<module>\u001b[0m:\u001b[36m25\u001b[0m - \u001b[1mNumber of items: 1682\u001b[0m\n",
      "\u001b[32m2025-03-05 04:02:51.735\u001b[0m | \u001b[1mINFO    \u001b[0m | \u001b[36m__main__\u001b[0m:\u001b[36m<module>\u001b[0m:\u001b[36m26\u001b[0m - \u001b[1mNumber of ratings: 100000\u001b[0m\n"
     ]
    }
   ],
   "source": [
    "import torch\n",
    "from torch.utils.data import Dataset\n",
    "from loguru import logger\n",
    "\n",
    "class MovieLensDataset(Dataset):\n",
    "    def __init__(self, data_path):\n",
    "        self.data_path = data_path\n",
    "        df = pd.read_csv(self.data_path)\n",
    "\n",
    "        self.users = torch.tensor(df[\"userId\"].values, dtype=torch.long)\n",
    "        self.items = torch.tensor(df[\"movieId\"].values, dtype=torch.long)\n",
    "        self.ratings = torch.tensor(df[\"rating\"].values, dtype=torch.float32)\n",
    "\n",
    "        self.num_users = df[\"userId\"].nunique()\n",
    "        self.num_items = df[\"movieId\"].nunique()\n",
    "\n",
    "    def __len__(self):\n",
    "        return len(self.ratings)\n",
    "\n",
    "    def __getitem__(self, idx):\n",
    "        return self.users[idx], self.items[idx], self.ratings[idx]\n",
    "\n",
    "dataset = MovieLensDataset(data_path=\"../data/ML100K.csv\")\n",
    "logger.info(f\"Number of users: {dataset.num_users}\")\n",
    "logger.info(f\"Number of items: {dataset.num_items}\")\n",
    "logger.info(f\"Number of ratings: {len(dataset)}\")"
   ]
  },
  {
   "cell_type": "code",
   "execution_count": 4,
   "metadata": {},
   "outputs": [
    {
     "name": "stdout",
     "output_type": "stream",
     "text": [
      "Print test samples:\n",
      "First five users:  tensor([532, 534, 359, 110, 248])\n",
      "First five items:  tensor([340, 371, 630, 156, 385])\n",
      "First five ratings:  tensor([3., 3., 4., 3., 3.])\n"
     ]
    }
   ],
   "source": [
    "from torch.utils.data import DataLoader, random_split\n",
    "\n",
    "train_ratio = 0.8\n",
    "valid_ratio = 0.1\n",
    "seed = 42\n",
    "batch_size = 128\n",
    "\n",
    "total_size = len(dataset)\n",
    "train_size = int(train_ratio * total_size)\n",
    "valid_size = int(valid_ratio * total_size)\n",
    "test_size = total_size - train_size - valid_size\n",
    "\n",
    "train_dataset, valid_dataset, test_dataset = random_split(\n",
    "    dataset=dataset,\n",
    "    lengths=[train_size, valid_size, test_size],\n",
    "    generator=torch.Generator().manual_seed(seed)\n",
    ")\n",
    "\n",
    "train_loader = DataLoader(train_dataset, batch_size=batch_size, shuffle=True)\n",
    "valid_loader = DataLoader(valid_dataset, batch_size=batch_size, shuffle=False)\n",
    "test_loader = DataLoader(test_dataset, batch_size=batch_size, shuffle=False)\n",
    "\n",
    "users, items, ratings = next(iter(test_loader))\n",
    "print(\"Print test samples:\")\n",
    "print(\"First five users: \", users[0:5])\n",
    "print(\"First five items: \", items[0:5])\n",
    "print(\"First five ratings: \", ratings[0:5])"
   ]
  },
  {
   "cell_type": "code",
   "execution_count": 12,
   "metadata": {},
   "outputs": [],
   "source": [
    "import torch\n",
    "import torch.nn as nn\n",
    "\n",
    "class LFM(nn.Module):\n",
    "    def __init__(\n",
    "        self,\n",
    "        num_users,\n",
    "        num_items,\n",
    "        embedding_dim = 50\n",
    "    ):\n",
    "        super(LFM, self).__init__()\n",
    "\n",
    "        self.global_bias = nn.Parameter(torch.zeros(1))\n",
    "        self.user_bias = nn.Embedding(num_users, 1)\n",
    "        self.item_bias = nn.Embedding(num_items, 1)\n",
    "        self.user_emb = nn.Embedding(num_users, embedding_dim)\n",
    "        self.item_emb = nn.Embedding(num_items, embedding_dim)\n",
    "\n",
    "        nn.init.normal_(self.user_emb.weight, std=0.01)\n",
    "        nn.init.normal_(self.item_emb.weight, std=0.01)\n",
    "        nn.init.zeros_(self.user_bias.weight)\n",
    "        nn.init.zeros_(self.item_bias.weight)\n",
    "\n",
    "    def forward(\n",
    "        self,\n",
    "        users, \n",
    "        items\n",
    "    ):\n",
    "        user_vecs = self.user_emb(users) # B x d\n",
    "        item_vecs = self.item_emb(items) # B x d\n",
    "\n",
    "        user_b = self.user_bias(users).squeeze() # B x 1\n",
    "        item_b = self.item_bias(items).squeeze() # B x 1\n",
    "\n",
    "        return self.global_bias + user_b + item_b + (user_vecs * item_vecs).sum(dim=1)"
   ]
  },
  {
   "cell_type": "code",
   "execution_count": 6,
   "metadata": {},
   "outputs": [
    {
     "name": "stderr",
     "output_type": "stream",
     "text": [
      "\u001b[32m2025-03-05 04:02:59.455\u001b[0m | \u001b[1mINFO    \u001b[0m | \u001b[36m__main__\u001b[0m:\u001b[36m<module>\u001b[0m:\u001b[36m9\u001b[0m - \u001b[1mParameters:\u001b[0m\n",
      "\u001b[32m2025-03-05 04:02:59.456\u001b[0m | \u001b[1mINFO    \u001b[0m | \u001b[36m__main__\u001b[0m:\u001b[36m<module>\u001b[0m:\u001b[36m11\u001b[0m - \u001b[1mglobal_bias: torch.Size([1])\u001b[0m\n",
      "\u001b[32m2025-03-05 04:02:59.456\u001b[0m | \u001b[1mINFO    \u001b[0m | \u001b[36m__main__\u001b[0m:\u001b[36m<module>\u001b[0m:\u001b[36m11\u001b[0m - \u001b[1muser_bias.weight: torch.Size([943, 1])\u001b[0m\n",
      "\u001b[32m2025-03-05 04:02:59.457\u001b[0m | \u001b[1mINFO    \u001b[0m | \u001b[36m__main__\u001b[0m:\u001b[36m<module>\u001b[0m:\u001b[36m11\u001b[0m - \u001b[1mitem_bias.weight: torch.Size([1682, 1])\u001b[0m\n",
      "\u001b[32m2025-03-05 04:02:59.457\u001b[0m | \u001b[1mINFO    \u001b[0m | \u001b[36m__main__\u001b[0m:\u001b[36m<module>\u001b[0m:\u001b[36m11\u001b[0m - \u001b[1muser_emb.weight: torch.Size([943, 64])\u001b[0m\n",
      "\u001b[32m2025-03-05 04:02:59.458\u001b[0m | \u001b[1mINFO    \u001b[0m | \u001b[36m__main__\u001b[0m:\u001b[36m<module>\u001b[0m:\u001b[36m11\u001b[0m - \u001b[1mitem_emb.weight: torch.Size([1682, 64])\u001b[0m\n"
     ]
    }
   ],
   "source": [
    "embedding_dim = 64\n",
    "\n",
    "model = LFM(\n",
    "    num_users=dataset.num_users,\n",
    "    num_items=dataset.num_items,\n",
    "    embedding_dim=embedding_dim\n",
    ")\n",
    "\n",
    "logger.info(\"Parameters:\")\n",
    "for name, param in model.named_parameters():\n",
    "    logger.info(f\"{name}: {param.shape}\")"
   ]
  },
  {
   "cell_type": "code",
   "execution_count": 7,
   "metadata": {},
   "outputs": [
    {
     "name": "stderr",
     "output_type": "stream",
     "text": [
      "\u001b[32m2025-03-05 04:03:00.893\u001b[0m | \u001b[1mINFO    \u001b[0m | \u001b[36m__main__\u001b[0m:\u001b[36mset_random_seed\u001b[0m:\u001b[36m5\u001b[0m - \u001b[1mSetting random seed: 42\u001b[0m\n"
     ]
    }
   ],
   "source": [
    "import random\n",
    "import numpy as np\n",
    "\n",
    "def set_random_seed(seed):\n",
    "    logger.info(f\"Setting random seed: {seed}\")\n",
    "    torch.manual_seed(seed)\n",
    "    torch.cuda.manual_seed_all(seed)\n",
    "    np.random.seed(seed)\n",
    "    random.seed(seed)\n",
    "    torch.backends.cudnn.deterministic = True\n",
    "    torch.backends.cudnn.benchmark = False\n",
    "\n",
    "set_random_seed(seed=seed)"
   ]
  },
  {
   "cell_type": "code",
   "execution_count": 13,
   "metadata": {},
   "outputs": [
    {
     "name": "stderr",
     "output_type": "stream",
     "text": [
      "\u001b[32m2025-03-05 04:03:35.349\u001b[0m | \u001b[1mINFO    \u001b[0m | \u001b[36m__main__\u001b[0m:\u001b[36m<module>\u001b[0m:\u001b[36m9\u001b[0m - \u001b[1mUsing device: cuda\u001b[0m\n"
     ]
    }
   ],
   "source": [
    "import torch.optim as optim\n",
    "from tqdm.notebook import tqdm\n",
    "\n",
    "num_epochs = 30\n",
    "lr = 0.001\n",
    "weight_decay = 0.000\n",
    "\n",
    "device = torch.device(\"cuda\" if torch.cuda.is_available() else \"cpu\")\n",
    "logger.info(f\"Using device: {device}\")\n",
    "\n",
    "model = model.to(device)\n",
    "optimizer = optim.Adam(\n",
    "    model.parameters(),\n",
    "    lr=lr,\n",
    "    weight_decay=weight_decay\n",
    ")\n",
    "criterion = nn.MSELoss()"
   ]
  },
  {
   "cell_type": "code",
   "execution_count": 9,
   "metadata": {},
   "outputs": [],
   "source": [
    "import math\n",
    "\n",
    "def train_or_eval_epoch(data_loader, training):\n",
    "    model.train(training)\n",
    "    if training is False:\n",
    "        model.eval()\n",
    "\n",
    "    total_loss, total_samples = 0.0, 0\n",
    "\n",
    "    desc = \"Training\" if training else \"Validating\"\n",
    "    batch_bar = tqdm(data_loader, desc=f\"{desc} RMSE: 0.0000\", leave=False)\n",
    "\n",
    "    with torch.set_grad_enabled(training):\n",
    "        for batch in batch_bar:\n",
    "            users, items, ratings = tuple(t.to(device) for t in batch)\n",
    "            predictions = model(users, items)\n",
    "\n",
    "            loss = criterion(predictions, ratings)\n",
    "\n",
    "            if training:\n",
    "                optimizer.zero_grad()\n",
    "                loss.backward()\n",
    "                optimizer.step()\n",
    "\n",
    "            batch_size = users.size(0)\n",
    "            total_loss += loss.item() * batch_size\n",
    "            total_samples += batch_size\n",
    "\n",
    "            avg_score = math.sqrt(total_loss / total_samples) # RMSE\n",
    "            batch_bar.set_description(f\"{desc} RMSE: {avg_score:.4f}\")\n",
    "\n",
    "    batch_bar.close()\n",
    "    return math.sqrt(total_loss / total_samples)"
   ]
  },
  {
   "cell_type": "code",
   "execution_count": 14,
   "metadata": {},
   "outputs": [
    {
     "data": {
      "application/vnd.jupyter.widget-view+json": {
       "model_id": "46880aa289f04c37b74c7bc0ea156899",
       "version_major": 2,
       "version_minor": 0
      },
      "text/plain": [
       "Epoch Progress:   0%|          | 0/30 [00:00<?, ?it/s]"
      ]
     },
     "metadata": {},
     "output_type": "display_data"
    },
    {
     "data": {
      "application/vnd.jupyter.widget-view+json": {
       "model_id": "3bfdafba659a4fdb85c44464ad213534",
       "version_major": 2,
       "version_minor": 0
      },
      "text/plain": [
       "Training RMSE: 0.0000:   0%|          | 0/625 [00:00<?, ?it/s]"
      ]
     },
     "metadata": {},
     "output_type": "display_data"
    },
    {
     "data": {
      "application/vnd.jupyter.widget-view+json": {
       "model_id": "d32f22e94b0541a3a78dded89171fc2f",
       "version_major": 2,
       "version_minor": 0
      },
      "text/plain": [
       "Validating RMSE: 0.0000:   0%|          | 0/79 [00:00<?, ?it/s]"
      ]
     },
     "metadata": {},
     "output_type": "display_data"
    },
    {
     "data": {
      "application/vnd.jupyter.widget-view+json": {
       "model_id": "ae3d034bb3fd43da81a6c32437bf7e93",
       "version_major": 2,
       "version_minor": 0
      },
      "text/plain": [
       "Training RMSE: 0.0000:   0%|          | 0/625 [00:00<?, ?it/s]"
      ]
     },
     "metadata": {},
     "output_type": "display_data"
    },
    {
     "data": {
      "application/vnd.jupyter.widget-view+json": {
       "model_id": "c859f239c1984254bddb747b6632bdd5",
       "version_major": 2,
       "version_minor": 0
      },
      "text/plain": [
       "Validating RMSE: 0.0000:   0%|          | 0/79 [00:00<?, ?it/s]"
      ]
     },
     "metadata": {},
     "output_type": "display_data"
    },
    {
     "data": {
      "application/vnd.jupyter.widget-view+json": {
       "model_id": "4e1304da1b88496abe8bf763cff7a915",
       "version_major": 2,
       "version_minor": 0
      },
      "text/plain": [
       "Training RMSE: 0.0000:   0%|          | 0/625 [00:00<?, ?it/s]"
      ]
     },
     "metadata": {},
     "output_type": "display_data"
    },
    {
     "data": {
      "application/vnd.jupyter.widget-view+json": {
       "model_id": "a6d81ae25c1b4acc9399205c4b4fa715",
       "version_major": 2,
       "version_minor": 0
      },
      "text/plain": [
       "Validating RMSE: 0.0000:   0%|          | 0/79 [00:00<?, ?it/s]"
      ]
     },
     "metadata": {},
     "output_type": "display_data"
    },
    {
     "data": {
      "application/vnd.jupyter.widget-view+json": {
       "model_id": "67d1886d68174ed7bc2ad4f1be71789a",
       "version_major": 2,
       "version_minor": 0
      },
      "text/plain": [
       "Training RMSE: 0.0000:   0%|          | 0/625 [00:00<?, ?it/s]"
      ]
     },
     "metadata": {},
     "output_type": "display_data"
    },
    {
     "data": {
      "application/vnd.jupyter.widget-view+json": {
       "model_id": "7a34a17cc59b49149734e61d014c8969",
       "version_major": 2,
       "version_minor": 0
      },
      "text/plain": [
       "Validating RMSE: 0.0000:   0%|          | 0/79 [00:00<?, ?it/s]"
      ]
     },
     "metadata": {},
     "output_type": "display_data"
    },
    {
     "data": {
      "application/vnd.jupyter.widget-view+json": {
       "model_id": "6e0d0cac869e490481074d51e681bd55",
       "version_major": 2,
       "version_minor": 0
      },
      "text/plain": [
       "Training RMSE: 0.0000:   0%|          | 0/625 [00:00<?, ?it/s]"
      ]
     },
     "metadata": {},
     "output_type": "display_data"
    },
    {
     "data": {
      "application/vnd.jupyter.widget-view+json": {
       "model_id": "9b2a8b986f224bb1ad5bb0912204d620",
       "version_major": 2,
       "version_minor": 0
      },
      "text/plain": [
       "Validating RMSE: 0.0000:   0%|          | 0/79 [00:00<?, ?it/s]"
      ]
     },
     "metadata": {},
     "output_type": "display_data"
    },
    {
     "data": {
      "application/vnd.jupyter.widget-view+json": {
       "model_id": "6a94058e50e14496a93594062f5e017f",
       "version_major": 2,
       "version_minor": 0
      },
      "text/plain": [
       "Training RMSE: 0.0000:   0%|          | 0/625 [00:00<?, ?it/s]"
      ]
     },
     "metadata": {},
     "output_type": "display_data"
    },
    {
     "data": {
      "application/vnd.jupyter.widget-view+json": {
       "model_id": "8f1b37821d4f479083f2b692e2cc8c11",
       "version_major": 2,
       "version_minor": 0
      },
      "text/plain": [
       "Validating RMSE: 0.0000:   0%|          | 0/79 [00:00<?, ?it/s]"
      ]
     },
     "metadata": {},
     "output_type": "display_data"
    },
    {
     "data": {
      "application/vnd.jupyter.widget-view+json": {
       "model_id": "91e8d38264834069a564fd1be561ad77",
       "version_major": 2,
       "version_minor": 0
      },
      "text/plain": [
       "Training RMSE: 0.0000:   0%|          | 0/625 [00:00<?, ?it/s]"
      ]
     },
     "metadata": {},
     "output_type": "display_data"
    },
    {
     "data": {
      "application/vnd.jupyter.widget-view+json": {
       "model_id": "fc08a0f6e61844aa8a67880772a28798",
       "version_major": 2,
       "version_minor": 0
      },
      "text/plain": [
       "Validating RMSE: 0.0000:   0%|          | 0/79 [00:00<?, ?it/s]"
      ]
     },
     "metadata": {},
     "output_type": "display_data"
    },
    {
     "data": {
      "application/vnd.jupyter.widget-view+json": {
       "model_id": "2b5ed699da9c4f3192936bf01fdbe66e",
       "version_major": 2,
       "version_minor": 0
      },
      "text/plain": [
       "Training RMSE: 0.0000:   0%|          | 0/625 [00:00<?, ?it/s]"
      ]
     },
     "metadata": {},
     "output_type": "display_data"
    },
    {
     "data": {
      "application/vnd.jupyter.widget-view+json": {
       "model_id": "6738cbc7695e49c2aa55fee83282f62a",
       "version_major": 2,
       "version_minor": 0
      },
      "text/plain": [
       "Validating RMSE: 0.0000:   0%|          | 0/79 [00:00<?, ?it/s]"
      ]
     },
     "metadata": {},
     "output_type": "display_data"
    },
    {
     "data": {
      "application/vnd.jupyter.widget-view+json": {
       "model_id": "8f00f616993f4e178f552608e081ee7e",
       "version_major": 2,
       "version_minor": 0
      },
      "text/plain": [
       "Training RMSE: 0.0000:   0%|          | 0/625 [00:00<?, ?it/s]"
      ]
     },
     "metadata": {},
     "output_type": "display_data"
    },
    {
     "data": {
      "application/vnd.jupyter.widget-view+json": {
       "model_id": "b7d8b41ef0cc4c5aa174d61d5a7688af",
       "version_major": 2,
       "version_minor": 0
      },
      "text/plain": [
       "Validating RMSE: 0.0000:   0%|          | 0/79 [00:00<?, ?it/s]"
      ]
     },
     "metadata": {},
     "output_type": "display_data"
    },
    {
     "data": {
      "application/vnd.jupyter.widget-view+json": {
       "model_id": "c11b4888d54e433296fdbbf2607434b2",
       "version_major": 2,
       "version_minor": 0
      },
      "text/plain": [
       "Training RMSE: 0.0000:   0%|          | 0/625 [00:00<?, ?it/s]"
      ]
     },
     "metadata": {},
     "output_type": "display_data"
    },
    {
     "data": {
      "application/vnd.jupyter.widget-view+json": {
       "model_id": "d83b1966ae774f3b82a390a55a2bee36",
       "version_major": 2,
       "version_minor": 0
      },
      "text/plain": [
       "Validating RMSE: 0.0000:   0%|          | 0/79 [00:00<?, ?it/s]"
      ]
     },
     "metadata": {},
     "output_type": "display_data"
    },
    {
     "data": {
      "application/vnd.jupyter.widget-view+json": {
       "model_id": "0a17258214bc4fad8294845c7a557655",
       "version_major": 2,
       "version_minor": 0
      },
      "text/plain": [
       "Training RMSE: 0.0000:   0%|          | 0/625 [00:00<?, ?it/s]"
      ]
     },
     "metadata": {},
     "output_type": "display_data"
    },
    {
     "data": {
      "application/vnd.jupyter.widget-view+json": {
       "model_id": "5e543e26c1e04fe4a0ca1ce2c8371aca",
       "version_major": 2,
       "version_minor": 0
      },
      "text/plain": [
       "Validating RMSE: 0.0000:   0%|          | 0/79 [00:00<?, ?it/s]"
      ]
     },
     "metadata": {},
     "output_type": "display_data"
    },
    {
     "data": {
      "application/vnd.jupyter.widget-view+json": {
       "model_id": "44aba6ec09d346d692ca2c020927391c",
       "version_major": 2,
       "version_minor": 0
      },
      "text/plain": [
       "Training RMSE: 0.0000:   0%|          | 0/625 [00:00<?, ?it/s]"
      ]
     },
     "metadata": {},
     "output_type": "display_data"
    },
    {
     "data": {
      "application/vnd.jupyter.widget-view+json": {
       "model_id": "550823a956954c46aa1e5fe1a7072a7d",
       "version_major": 2,
       "version_minor": 0
      },
      "text/plain": [
       "Validating RMSE: 0.0000:   0%|          | 0/79 [00:00<?, ?it/s]"
      ]
     },
     "metadata": {},
     "output_type": "display_data"
    },
    {
     "data": {
      "application/vnd.jupyter.widget-view+json": {
       "model_id": "f9c1e05479b44f10a41acb61adf24eb5",
       "version_major": 2,
       "version_minor": 0
      },
      "text/plain": [
       "Training RMSE: 0.0000:   0%|          | 0/625 [00:00<?, ?it/s]"
      ]
     },
     "metadata": {},
     "output_type": "display_data"
    },
    {
     "data": {
      "application/vnd.jupyter.widget-view+json": {
       "model_id": "f50ceb940747465f8b7602090efb02cf",
       "version_major": 2,
       "version_minor": 0
      },
      "text/plain": [
       "Validating RMSE: 0.0000:   0%|          | 0/79 [00:00<?, ?it/s]"
      ]
     },
     "metadata": {},
     "output_type": "display_data"
    },
    {
     "data": {
      "application/vnd.jupyter.widget-view+json": {
       "model_id": "4965d9fe34044efe886f640e79174fd2",
       "version_major": 2,
       "version_minor": 0
      },
      "text/plain": [
       "Training RMSE: 0.0000:   0%|          | 0/625 [00:00<?, ?it/s]"
      ]
     },
     "metadata": {},
     "output_type": "display_data"
    },
    {
     "data": {
      "application/vnd.jupyter.widget-view+json": {
       "model_id": "0b32b39c1b064d388e2c8136878cbb3d",
       "version_major": 2,
       "version_minor": 0
      },
      "text/plain": [
       "Validating RMSE: 0.0000:   0%|          | 0/79 [00:00<?, ?it/s]"
      ]
     },
     "metadata": {},
     "output_type": "display_data"
    },
    {
     "data": {
      "application/vnd.jupyter.widget-view+json": {
       "model_id": "5cc7177ac2094fad81e7d220eb42f895",
       "version_major": 2,
       "version_minor": 0
      },
      "text/plain": [
       "Training RMSE: 0.0000:   0%|          | 0/625 [00:00<?, ?it/s]"
      ]
     },
     "metadata": {},
     "output_type": "display_data"
    },
    {
     "data": {
      "application/vnd.jupyter.widget-view+json": {
       "model_id": "91b561ae4d0c4136ac62a55836cbb6a5",
       "version_major": 2,
       "version_minor": 0
      },
      "text/plain": [
       "Validating RMSE: 0.0000:   0%|          | 0/79 [00:00<?, ?it/s]"
      ]
     },
     "metadata": {},
     "output_type": "display_data"
    },
    {
     "data": {
      "application/vnd.jupyter.widget-view+json": {
       "model_id": "aef230547d8f42979fdbe28ce16c0b7b",
       "version_major": 2,
       "version_minor": 0
      },
      "text/plain": [
       "Training RMSE: 0.0000:   0%|          | 0/625 [00:00<?, ?it/s]"
      ]
     },
     "metadata": {},
     "output_type": "display_data"
    },
    {
     "data": {
      "application/vnd.jupyter.widget-view+json": {
       "model_id": "2f5206bbf86d497c9b39b51cdd5b9814",
       "version_major": 2,
       "version_minor": 0
      },
      "text/plain": [
       "Validating RMSE: 0.0000:   0%|          | 0/79 [00:00<?, ?it/s]"
      ]
     },
     "metadata": {},
     "output_type": "display_data"
    },
    {
     "data": {
      "application/vnd.jupyter.widget-view+json": {
       "model_id": "3e2cd5c5186f4bb7971202c93df0e718",
       "version_major": 2,
       "version_minor": 0
      },
      "text/plain": [
       "Training RMSE: 0.0000:   0%|          | 0/625 [00:00<?, ?it/s]"
      ]
     },
     "metadata": {},
     "output_type": "display_data"
    },
    {
     "data": {
      "application/vnd.jupyter.widget-view+json": {
       "model_id": "f40b13591cf045148050217a7e070e10",
       "version_major": 2,
       "version_minor": 0
      },
      "text/plain": [
       "Validating RMSE: 0.0000:   0%|          | 0/79 [00:00<?, ?it/s]"
      ]
     },
     "metadata": {},
     "output_type": "display_data"
    },
    {
     "data": {
      "application/vnd.jupyter.widget-view+json": {
       "model_id": "4ac3a339a03147e288783ab6528aad53",
       "version_major": 2,
       "version_minor": 0
      },
      "text/plain": [
       "Training RMSE: 0.0000:   0%|          | 0/625 [00:00<?, ?it/s]"
      ]
     },
     "metadata": {},
     "output_type": "display_data"
    },
    {
     "data": {
      "application/vnd.jupyter.widget-view+json": {
       "model_id": "ccea6f05324042a88956eebc7b2e0a53",
       "version_major": 2,
       "version_minor": 0
      },
      "text/plain": [
       "Validating RMSE: 0.0000:   0%|          | 0/79 [00:00<?, ?it/s]"
      ]
     },
     "metadata": {},
     "output_type": "display_data"
    },
    {
     "data": {
      "application/vnd.jupyter.widget-view+json": {
       "model_id": "74df9ba1069f4c209f600966ec762baf",
       "version_major": 2,
       "version_minor": 0
      },
      "text/plain": [
       "Training RMSE: 0.0000:   0%|          | 0/625 [00:00<?, ?it/s]"
      ]
     },
     "metadata": {},
     "output_type": "display_data"
    },
    {
     "data": {
      "application/vnd.jupyter.widget-view+json": {
       "model_id": "e80ab72afba94cefb4aeab2c31e812d8",
       "version_major": 2,
       "version_minor": 0
      },
      "text/plain": [
       "Validating RMSE: 0.0000:   0%|          | 0/79 [00:00<?, ?it/s]"
      ]
     },
     "metadata": {},
     "output_type": "display_data"
    },
    {
     "data": {
      "application/vnd.jupyter.widget-view+json": {
       "model_id": "9a07d186924a4fba9523c01742557ae5",
       "version_major": 2,
       "version_minor": 0
      },
      "text/plain": [
       "Training RMSE: 0.0000:   0%|          | 0/625 [00:00<?, ?it/s]"
      ]
     },
     "metadata": {},
     "output_type": "display_data"
    },
    {
     "data": {
      "application/vnd.jupyter.widget-view+json": {
       "model_id": "a9111d08c2d746b78db7cbf9b0b22154",
       "version_major": 2,
       "version_minor": 0
      },
      "text/plain": [
       "Validating RMSE: 0.0000:   0%|          | 0/79 [00:00<?, ?it/s]"
      ]
     },
     "metadata": {},
     "output_type": "display_data"
    },
    {
     "data": {
      "application/vnd.jupyter.widget-view+json": {
       "model_id": "ae0039610f4442e08085a3d28f04ff09",
       "version_major": 2,
       "version_minor": 0
      },
      "text/plain": [
       "Training RMSE: 0.0000:   0%|          | 0/625 [00:00<?, ?it/s]"
      ]
     },
     "metadata": {},
     "output_type": "display_data"
    },
    {
     "data": {
      "application/vnd.jupyter.widget-view+json": {
       "model_id": "bcbd6a0ed5ee41d3bd95743316700790",
       "version_major": 2,
       "version_minor": 0
      },
      "text/plain": [
       "Validating RMSE: 0.0000:   0%|          | 0/79 [00:00<?, ?it/s]"
      ]
     },
     "metadata": {},
     "output_type": "display_data"
    },
    {
     "data": {
      "application/vnd.jupyter.widget-view+json": {
       "model_id": "8687b2ec443b443293e3e8e3a63b8cd4",
       "version_major": 2,
       "version_minor": 0
      },
      "text/plain": [
       "Training RMSE: 0.0000:   0%|          | 0/625 [00:00<?, ?it/s]"
      ]
     },
     "metadata": {},
     "output_type": "display_data"
    },
    {
     "data": {
      "application/vnd.jupyter.widget-view+json": {
       "model_id": "3bccf98db29649148c0be85d0e95f3e6",
       "version_major": 2,
       "version_minor": 0
      },
      "text/plain": [
       "Validating RMSE: 0.0000:   0%|          | 0/79 [00:00<?, ?it/s]"
      ]
     },
     "metadata": {},
     "output_type": "display_data"
    },
    {
     "data": {
      "application/vnd.jupyter.widget-view+json": {
       "model_id": "39677e32f62d47e794bd34c85b8e7327",
       "version_major": 2,
       "version_minor": 0
      },
      "text/plain": [
       "Training RMSE: 0.0000:   0%|          | 0/625 [00:00<?, ?it/s]"
      ]
     },
     "metadata": {},
     "output_type": "display_data"
    },
    {
     "data": {
      "application/vnd.jupyter.widget-view+json": {
       "model_id": "51fa234e939343118fa0c8d49834ce24",
       "version_major": 2,
       "version_minor": 0
      },
      "text/plain": [
       "Validating RMSE: 0.0000:   0%|          | 0/79 [00:00<?, ?it/s]"
      ]
     },
     "metadata": {},
     "output_type": "display_data"
    },
    {
     "data": {
      "application/vnd.jupyter.widget-view+json": {
       "model_id": "a2418e86bace4d32a77a624be748d2b9",
       "version_major": 2,
       "version_minor": 0
      },
      "text/plain": [
       "Training RMSE: 0.0000:   0%|          | 0/625 [00:00<?, ?it/s]"
      ]
     },
     "metadata": {},
     "output_type": "display_data"
    },
    {
     "data": {
      "application/vnd.jupyter.widget-view+json": {
       "model_id": "b5a06a9ab62a470bbf729091f454fb79",
       "version_major": 2,
       "version_minor": 0
      },
      "text/plain": [
       "Validating RMSE: 0.0000:   0%|          | 0/79 [00:00<?, ?it/s]"
      ]
     },
     "metadata": {},
     "output_type": "display_data"
    },
    {
     "data": {
      "application/vnd.jupyter.widget-view+json": {
       "model_id": "26d04801d9b243ffbf25859e3c3c3218",
       "version_major": 2,
       "version_minor": 0
      },
      "text/plain": [
       "Training RMSE: 0.0000:   0%|          | 0/625 [00:00<?, ?it/s]"
      ]
     },
     "metadata": {},
     "output_type": "display_data"
    },
    {
     "data": {
      "application/vnd.jupyter.widget-view+json": {
       "model_id": "8f80ee1f79004311a4d1bc598d7f03c9",
       "version_major": 2,
       "version_minor": 0
      },
      "text/plain": [
       "Validating RMSE: 0.0000:   0%|          | 0/79 [00:00<?, ?it/s]"
      ]
     },
     "metadata": {},
     "output_type": "display_data"
    },
    {
     "data": {
      "application/vnd.jupyter.widget-view+json": {
       "model_id": "45a7d6be539044a5aa161bed34bc8dc9",
       "version_major": 2,
       "version_minor": 0
      },
      "text/plain": [
       "Training RMSE: 0.0000:   0%|          | 0/625 [00:00<?, ?it/s]"
      ]
     },
     "metadata": {},
     "output_type": "display_data"
    },
    {
     "data": {
      "application/vnd.jupyter.widget-view+json": {
       "model_id": "43312296a78549c2b2d6358f4a495cbb",
       "version_major": 2,
       "version_minor": 0
      },
      "text/plain": [
       "Validating RMSE: 0.0000:   0%|          | 0/79 [00:00<?, ?it/s]"
      ]
     },
     "metadata": {},
     "output_type": "display_data"
    },
    {
     "data": {
      "application/vnd.jupyter.widget-view+json": {
       "model_id": "37afc47075df4b318400d971d08cf8b9",
       "version_major": 2,
       "version_minor": 0
      },
      "text/plain": [
       "Training RMSE: 0.0000:   0%|          | 0/625 [00:00<?, ?it/s]"
      ]
     },
     "metadata": {},
     "output_type": "display_data"
    },
    {
     "data": {
      "application/vnd.jupyter.widget-view+json": {
       "model_id": "c0b26f8ee65e4a4794d3f78307a942f9",
       "version_major": 2,
       "version_minor": 0
      },
      "text/plain": [
       "Validating RMSE: 0.0000:   0%|          | 0/79 [00:00<?, ?it/s]"
      ]
     },
     "metadata": {},
     "output_type": "display_data"
    },
    {
     "data": {
      "application/vnd.jupyter.widget-view+json": {
       "model_id": "d9938381b7df4f47b8b2085c8257cbee",
       "version_major": 2,
       "version_minor": 0
      },
      "text/plain": [
       "Training RMSE: 0.0000:   0%|          | 0/625 [00:00<?, ?it/s]"
      ]
     },
     "metadata": {},
     "output_type": "display_data"
    },
    {
     "data": {
      "application/vnd.jupyter.widget-view+json": {
       "model_id": "dec4a5cd7564439ba3cdb6f066e1129a",
       "version_major": 2,
       "version_minor": 0
      },
      "text/plain": [
       "Validating RMSE: 0.0000:   0%|          | 0/79 [00:00<?, ?it/s]"
      ]
     },
     "metadata": {},
     "output_type": "display_data"
    },
    {
     "data": {
      "application/vnd.jupyter.widget-view+json": {
       "model_id": "da53c47be845482e9b504d302b66e31d",
       "version_major": 2,
       "version_minor": 0
      },
      "text/plain": [
       "Training RMSE: 0.0000:   0%|          | 0/625 [00:00<?, ?it/s]"
      ]
     },
     "metadata": {},
     "output_type": "display_data"
    },
    {
     "data": {
      "application/vnd.jupyter.widget-view+json": {
       "model_id": "cb214465397f4304bdd2d7cd1f5c6e37",
       "version_major": 2,
       "version_minor": 0
      },
      "text/plain": [
       "Validating RMSE: 0.0000:   0%|          | 0/79 [00:00<?, ?it/s]"
      ]
     },
     "metadata": {},
     "output_type": "display_data"
    },
    {
     "data": {
      "application/vnd.jupyter.widget-view+json": {
       "model_id": "608a8ff9440d424f812004d83b248a4b",
       "version_major": 2,
       "version_minor": 0
      },
      "text/plain": [
       "Training RMSE: 0.0000:   0%|          | 0/625 [00:00<?, ?it/s]"
      ]
     },
     "metadata": {},
     "output_type": "display_data"
    },
    {
     "data": {
      "application/vnd.jupyter.widget-view+json": {
       "model_id": "e813b739c21748108bd9ae5fb25d7e29",
       "version_major": 2,
       "version_minor": 0
      },
      "text/plain": [
       "Validating RMSE: 0.0000:   0%|          | 0/79 [00:00<?, ?it/s]"
      ]
     },
     "metadata": {},
     "output_type": "display_data"
    }
   ],
   "source": [
    "best_model_state = None\n",
    "best_valid_score = float(\"inf\")\n",
    "\n",
    "epoch_bar = tqdm(range(num_epochs), desc=\"Epoch Progress\", leave=True)\n",
    "train_scores = []\n",
    "valid_scores = []\n",
    "for epoch in epoch_bar:\n",
    "    train_score = train_or_eval_epoch(train_loader, training=True)\n",
    "    valid_score = train_or_eval_epoch(valid_loader, training=False)\n",
    "\n",
    "    if valid_score < best_valid_score: # lower RMSE is better\n",
    "        best_valid_score = valid_score\n",
    "        best_model_state = {\n",
    "            k: v.clone().detach() for k, v in model.state_dict().items()\n",
    "        }\n",
    "\n",
    "    epoch_bar.set_description(\n",
    "        f\"Epoch {epoch+1} - Train RMSE: {train_score:.4f}, Valid RMSE: {valid_score:.4f}\"\n",
    "    )\n",
    "    train_scores.append(train_score)\n",
    "    valid_scores.append(valid_score)"
   ]
  },
  {
   "cell_type": "code",
   "execution_count": 15,
   "metadata": {},
   "outputs": [
    {
     "name": "stderr",
     "output_type": "stream",
     "text": [
      "\u001b[32m2025-03-03 01:32:26.945\u001b[0m | \u001b[1mINFO    \u001b[0m | \u001b[36m__main__\u001b[0m:\u001b[36m<module>\u001b[0m:\u001b[36m1\u001b[0m - \u001b[1mRandom seed: 42\u001b[0m\n",
      "\u001b[32m2025-03-03 01:32:26.946\u001b[0m | \u001b[1mINFO    \u001b[0m | \u001b[36m__main__\u001b[0m:\u001b[36m<module>\u001b[0m:\u001b[36m2\u001b[0m - \u001b[1mHyperparameters:\u001b[0m\n",
      "\u001b[32m2025-03-03 01:32:26.947\u001b[0m | \u001b[1mINFO    \u001b[0m | \u001b[36m__main__\u001b[0m:\u001b[36m<module>\u001b[0m:\u001b[36m3\u001b[0m - \u001b[1m- Embedding dimension: 64\u001b[0m\n",
      "\u001b[32m2025-03-03 01:32:26.947\u001b[0m | \u001b[1mINFO    \u001b[0m | \u001b[36m__main__\u001b[0m:\u001b[36m<module>\u001b[0m:\u001b[36m4\u001b[0m - \u001b[1m- Learning rate: 0.001\u001b[0m\n",
      "\u001b[32m2025-03-03 01:32:26.948\u001b[0m | \u001b[1mINFO    \u001b[0m | \u001b[36m__main__\u001b[0m:\u001b[36m<module>\u001b[0m:\u001b[36m5\u001b[0m - \u001b[1m- Weight decay: 0.0\u001b[0m\n",
      "\u001b[32m2025-03-03 01:32:26.948\u001b[0m | \u001b[1mINFO    \u001b[0m | \u001b[36m__main__\u001b[0m:\u001b[36m<module>\u001b[0m:\u001b[36m6\u001b[0m - \u001b[1m- Batch size: 128\u001b[0m\n",
      "\u001b[32m2025-03-03 01:32:26.948\u001b[0m | \u001b[1mINFO    \u001b[0m | \u001b[36m__main__\u001b[0m:\u001b[36m<module>\u001b[0m:\u001b[36m7\u001b[0m - \u001b[1mBest valid RMSE: 0.9215\u001b[0m\n"
     ]
    }
   ],
   "source": [
    "logger.info(f\"Random seed: {seed}\")\n",
    "logger.info(f\"Hyperparameters:\")\n",
    "logger.info(f\"- Embedding dimension: {embedding_dim}\")\n",
    "logger.info(f\"- Learning rate: {lr}\")\n",
    "logger.info(f\"- Weight decay: {weight_decay}\")\n",
    "logger.info(f\"- Batch size: {batch_size}\")\n",
    "logger.info(f\"Best valid RMSE: {best_valid_score:.4f}\")"
   ]
  },
  {
   "cell_type": "code",
   "execution_count": 16,
   "metadata": {},
   "outputs": [
    {
     "data": {
      "application/vnd.jupyter.widget-view+json": {
       "model_id": "0c1b9a3416244c039ffc885c8081272a",
       "version_major": 2,
       "version_minor": 0
      },
      "text/plain": [
       "Validating RMSE: 0.0000:   0%|          | 0/79 [00:00<?, ?it/s]"
      ]
     },
     "metadata": {},
     "output_type": "display_data"
    },
    {
     "name": "stderr",
     "output_type": "stream",
     "text": [
      "\u001b[32m2025-03-03 01:32:41.381\u001b[0m | \u001b[1mINFO    \u001b[0m | \u001b[36m__main__\u001b[0m:\u001b[36m<module>\u001b[0m:\u001b[36m4\u001b[0m - \u001b[1mFinal Test RMSE: 0.9309\u001b[0m\n"
     ]
    }
   ],
   "source": [
    "model.load_state_dict(best_model_state)\n",
    "model.to(device)\n",
    "test_score = train_or_eval_epoch(test_loader, training=False)\n",
    "logger.info(f\"Final Test RMSE: {test_score:.4f}\")"
   ]
  },
  {
   "cell_type": "code",
   "execution_count": 17,
   "metadata": {},
   "outputs": [
    {
     "data": {
      "image/png": "[encoded data removed]",
      "text/plain": [
       "<Figure size 800x500 with 1 Axes>"
      ]
     },
     "metadata": {},
     "output_type": "display_data"
    }
   ],
   "source": [
    "import matplotlib.pyplot as plt\n",
    "\n",
    "epochs = list(range(0, num_epochs))\n",
    "\n",
    "plt.figure(figsize=(8, 5))\n",
    "plt.plot(epochs, train_scores, marker='o', linestyle='-', label=\"Train RMSE\")\n",
    "plt.plot(epochs, valid_scores, marker='s', linestyle='-', label=\"Valid RMSE\")\n",
    "plt.axhline(y=test_score, color='r', linestyle='dashed', label='Test RMSE') \n",
    "\n",
    "plt.xlabel(\"Epoch\")\n",
    "plt.ylabel(\"RMSE\")\n",
    "plt.title(\"Train vs. Valid RMSE\")\n",
    "plt.legend()\n",
    "\n",
    "plt.show()"
   ]
  }
 ],
 "metadata": {
  "kernelspec": {
   "display_name": "tutorial-jupyter",
   "language": "python",
   "name": "tutorial"
  },
  "language_info": {
   "codemirror_mode": {
    "name": "ipython",
    "version": 3
   },
   "file_extension": ".py",
   "mimetype": "text/x-python",
   "name": "python",
   "nbconvert_exporter": "python",
   "pygments_lexer": "ipython3",
   "version": "3.10.12"
  }
 },
 "nbformat": 4,
 "nbformat_minor": 2
}
