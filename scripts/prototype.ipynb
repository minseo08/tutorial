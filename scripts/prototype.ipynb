{
 "cells": [
  {
   "cell_type": "code",
   "execution_count": 16,
   "metadata": {},
   "outputs": [
    {
     "name": "stderr",
     "output_type": "stream",
     "text": [
      "\u001b[32m2025-03-02 16:32:58.229\u001b[0m | \u001b[1mINFO    \u001b[0m | \u001b[36mtutorial.main\u001b[0m:\u001b[36mmain\u001b[0m:\u001b[36m4\u001b[0m - \u001b[1mHello, World\u001b[0m\n"
     ]
    }
   ],
   "source": [
    "from tutorial.main import main\n",
    "\n",
    "main()\n"
   ]
  }
 ],
 "metadata": {
  "kernelspec": {
   "display_name": "tutorial-jupyter",
   "language": "python",
   "name": "tutorial"
  },
  "language_info": {
   "codemirror_mode": {
    "name": "ipython",
    "version": 3
   },
   "file_extension": ".py",
   "mimetype": "text/x-python",
   "name": "python",
   "nbconvert_exporter": "python",
   "pygments_lexer": "ipython3",
   "version": "3.10.12"
  }
 },
 "nbformat": 4,
 "nbformat_minor": 2
}
